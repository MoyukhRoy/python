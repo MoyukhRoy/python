{
 "cells": [
  {
   "cell_type": "markdown",
   "metadata": {},
   "source": [
    "## Day 70 - DIY Solution\n",
    "\n",
    "**Q1. Problem Statement: Gradient Boosting and XGBoost**<br>\n",
    "Write a Python program that reads the gender_classification.csv (provided on LMS) file into a DataFrame, where the dataset contains data of different parameters measured on human face classified based on gender and gender is our dependent variable, the following are the tasks that are to be taken into consideration while constructing Gradient Boosting and XGBoost model, to predict gender using given data and compare their accuracy.\n",
    "1.\tLoad the given dataset into a data frame\n",
    "2.\tFind missing values and treat them\n",
    "3.\tObserve distribution of target variable (‘gender’ is our target variable)\n",
    "4.\tDo standardization on continuous data 'forehead_width_cm' and 'forehead_height_cm'\n",
    "5.\tExtract dependent and independent variables into the y & x data frame\n",
    "6.\tSplit your data into train and test, by 30% as test size\n",
    "7.\tBuild a Gradient boosting classifier model and XGBoost model and compare their accuracy\n"
   ]
  },
  {
   "cell_type": "markdown",
   "metadata": {},
   "source": [
    "This dataset contains 7 features and a label column.<br>\n",
    "<br>\n",
    "**longhair** - This column contains 0's and 1's where 1 is \"long hair\" and 0 is \"not long hair\".\n",
    "<br>**foreheadwidthcm** - This column is in CM's. This is the width of the forehead.\n",
    "<br>**foreheadheightcm** - This is the height of the forehead and it's in Cm's.\n",
    "<br>**nosewide** - This column contains 0's and 1's where 1 is \"wide nose\" and 0 is \"not wide nose\".\n",
    "<br>**noselong** - This column contains 0's and 1's where 1 is \"Long nose\" and 0 is \"not long nose\".\n",
    "<br>**lipsthin** - This column contains 0's and 1's where 1 represents the \"thin lips\" while 0 is \"Not thin lips\".\n",
    "<br>**distancenosetoliplong** - This column contains 0's and 1's where 1 represents the \"long distance between nose and lips\" while 0 is \"short distance between nose and lips\".\n",
    "<br>**gender** - This is either \"Male\" or \"Female\"."
   ]
  },
  {
   "cell_type": "markdown",
   "metadata": {
    "id": "6A30ZicocGKe"
   },
   "source": [
    "**Step-1:** Import required libraries"
   ]
  },
  {
   "cell_type": "code",
   "execution_count": 142,
   "metadata": {
    "colab": {},
    "colab_type": "code",
    "id": "hqndbcMR567T"
   },
   "outputs": [],
   "source": [
    "#Import the required libraries\n",
    "import pandas as pd\n",
    "import dask.dataframe as dd\n",
    "pd.options.display.max_columns=False\n",
    "import numpy as np\n",
    "import matplotlib.pyplot as plt\n",
    "import seaborn as sns\n",
    "from sklearn.model_selection import train_test_split,GridSearchCV,cross_val_score\n",
    "from sklearn.ensemble import RandomForestRegressor\n",
    "from sklearn.tree import DecisionTreeRegressor\n",
    "from sklearn.preprocessing import LabelEncoder\n",
    "from sklearn.linear_model import LogisticRegression\n",
    "from sklearn.metrics import mean_squared_error\n",
    "from sklearn import metrics\n",
    "%matplotlib inline"
   ]
  },
  {
   "cell_type": "markdown",
   "metadata": {
    "id": "6A30ZicocGKe"
   },
   "source": [
    "**Step-2:**  Load Given dataset into dataframe."
   ]
  },
  {
   "cell_type": "code",
   "execution_count": 143,
   "metadata": {},
   "outputs": [
    {
     "data": {
      "text/html": [
       "<div>\n",
       "<style scoped>\n",
       "    .dataframe tbody tr th:only-of-type {\n",
       "        vertical-align: middle;\n",
       "    }\n",
       "\n",
       "    .dataframe tbody tr th {\n",
       "        vertical-align: top;\n",
       "    }\n",
       "\n",
       "    .dataframe thead th {\n",
       "        text-align: right;\n",
       "    }\n",
       "</style>\n",
       "<table border=\"1\" class=\"dataframe\">\n",
       "  <thead>\n",
       "    <tr style=\"text-align: right;\">\n",
       "      <th></th>\n",
       "      <th>long_hair</th>\n",
       "      <th>forehead_width_cm</th>\n",
       "      <th>forehead_height_cm</th>\n",
       "      <th>nose_wide</th>\n",
       "      <th>nose_long</th>\n",
       "      <th>lips_thin</th>\n",
       "      <th>distance_nose_to_lip_long</th>\n",
       "      <th>gender</th>\n",
       "    </tr>\n",
       "  </thead>\n",
       "  <tbody>\n",
       "    <tr>\n",
       "      <th>0</th>\n",
       "      <td>1</td>\n",
       "      <td>11.8</td>\n",
       "      <td>6.1</td>\n",
       "      <td>1</td>\n",
       "      <td>0</td>\n",
       "      <td>1</td>\n",
       "      <td>1</td>\n",
       "      <td>Male</td>\n",
       "    </tr>\n",
       "    <tr>\n",
       "      <th>1</th>\n",
       "      <td>0</td>\n",
       "      <td>14.0</td>\n",
       "      <td>5.4</td>\n",
       "      <td>0</td>\n",
       "      <td>0</td>\n",
       "      <td>1</td>\n",
       "      <td>0</td>\n",
       "      <td>Female</td>\n",
       "    </tr>\n",
       "    <tr>\n",
       "      <th>2</th>\n",
       "      <td>0</td>\n",
       "      <td>11.8</td>\n",
       "      <td>6.3</td>\n",
       "      <td>1</td>\n",
       "      <td>1</td>\n",
       "      <td>1</td>\n",
       "      <td>1</td>\n",
       "      <td>Male</td>\n",
       "    </tr>\n",
       "    <tr>\n",
       "      <th>3</th>\n",
       "      <td>0</td>\n",
       "      <td>14.4</td>\n",
       "      <td>6.1</td>\n",
       "      <td>0</td>\n",
       "      <td>1</td>\n",
       "      <td>1</td>\n",
       "      <td>1</td>\n",
       "      <td>Male</td>\n",
       "    </tr>\n",
       "    <tr>\n",
       "      <th>4</th>\n",
       "      <td>1</td>\n",
       "      <td>13.5</td>\n",
       "      <td>5.9</td>\n",
       "      <td>0</td>\n",
       "      <td>0</td>\n",
       "      <td>0</td>\n",
       "      <td>0</td>\n",
       "      <td>Female</td>\n",
       "    </tr>\n",
       "  </tbody>\n",
       "</table>\n",
       "</div>"
      ],
      "text/plain": [
       "   long_hair  forehead_width_cm  forehead_height_cm  nose_wide  nose_long  lips_thin  distance_nose_to_lip_long  gender\n",
       "0          1               11.8                 6.1          1          0          1                          1    Male\n",
       "1          0               14.0                 5.4          0          0          1                          0  Female\n",
       "2          0               11.8                 6.3          1          1          1                          1    Male\n",
       "3          0               14.4                 6.1          0          1          1                          1    Male\n",
       "4          1               13.5                 5.9          0          0          0                          0  Female"
      ]
     },
     "execution_count": 143,
     "metadata": {},
     "output_type": "execute_result"
    }
   ],
   "source": [
    "#Import the data set\n",
    "data = pd.read_csv('gender_classification.csv')\n",
    "data.head()"
   ]
  },
  {
   "cell_type": "markdown",
   "metadata": {
    "id": "6A30ZicocGKe"
   },
   "source": [
    "**Step-3:**  Visulize the shape of dataset."
   ]
  },
  {
   "cell_type": "code",
   "execution_count": 144,
   "metadata": {},
   "outputs": [
    {
     "data": {
      "text/plain": [
       "(5001, 8)"
      ]
     },
     "execution_count": 144,
     "metadata": {},
     "output_type": "execute_result"
    }
   ],
   "source": [
    "data.shape\n",
    "\n"
   ]
  },
  {
   "cell_type": "markdown",
   "metadata": {},
   "source": [
    "**Step-4:** Check basic information of each column"
   ]
  },
  {
   "cell_type": "code",
   "execution_count": 145,
   "metadata": {},
   "outputs": [
    {
     "name": "stdout",
     "output_type": "stream",
     "text": [
      "<class 'pandas.core.frame.DataFrame'>\n",
      "RangeIndex: 5001 entries, 0 to 5000\n",
      "Data columns (total 8 columns):\n",
      " #   Column                     Non-Null Count  Dtype  \n",
      "---  ------                     --------------  -----  \n",
      " 0   long_hair                  5001 non-null   int64  \n",
      " 1   forehead_width_cm          5001 non-null   float64\n",
      " 2   forehead_height_cm         5001 non-null   float64\n",
      " 3   nose_wide                  5001 non-null   int64  \n",
      " 4   nose_long                  5001 non-null   int64  \n",
      " 5   lips_thin                  5001 non-null   int64  \n",
      " 6   distance_nose_to_lip_long  5001 non-null   int64  \n",
      " 7   gender                     5001 non-null   object \n",
      "dtypes: float64(2), int64(5), object(1)\n",
      "memory usage: 312.7+ KB\n"
     ]
    }
   ],
   "source": [
    "data.info()                                                                                "
   ]
  },
  {
   "cell_type": "markdown",
   "metadata": {
    "id": "6A30ZicocGKe"
   },
   "source": [
    "**Step-5:**  General discription of catagirical features."
   ]
  },
  {
   "cell_type": "code",
   "execution_count": 146,
   "metadata": {
    "scrolled": true
   },
   "outputs": [
    {
     "data": {
      "text/html": [
       "<div>\n",
       "<style scoped>\n",
       "    .dataframe tbody tr th:only-of-type {\n",
       "        vertical-align: middle;\n",
       "    }\n",
       "\n",
       "    .dataframe tbody tr th {\n",
       "        vertical-align: top;\n",
       "    }\n",
       "\n",
       "    .dataframe thead th {\n",
       "        text-align: right;\n",
       "    }\n",
       "</style>\n",
       "<table border=\"1\" class=\"dataframe\">\n",
       "  <thead>\n",
       "    <tr style=\"text-align: right;\">\n",
       "      <th></th>\n",
       "      <th>long_hair</th>\n",
       "      <th>forehead_width_cm</th>\n",
       "      <th>forehead_height_cm</th>\n",
       "      <th>nose_wide</th>\n",
       "      <th>nose_long</th>\n",
       "      <th>lips_thin</th>\n",
       "      <th>distance_nose_to_lip_long</th>\n",
       "    </tr>\n",
       "  </thead>\n",
       "  <tbody>\n",
       "    <tr>\n",
       "      <th>count</th>\n",
       "      <td>5001.000000</td>\n",
       "      <td>5001.000000</td>\n",
       "      <td>5001.000000</td>\n",
       "      <td>5001.000000</td>\n",
       "      <td>5001.000000</td>\n",
       "      <td>5001.000000</td>\n",
       "      <td>5001.000000</td>\n",
       "    </tr>\n",
       "    <tr>\n",
       "      <th>mean</th>\n",
       "      <td>0.869626</td>\n",
       "      <td>13.181484</td>\n",
       "      <td>5.946311</td>\n",
       "      <td>0.493901</td>\n",
       "      <td>0.507898</td>\n",
       "      <td>0.493101</td>\n",
       "      <td>0.498900</td>\n",
       "    </tr>\n",
       "    <tr>\n",
       "      <th>std</th>\n",
       "      <td>0.336748</td>\n",
       "      <td>1.107128</td>\n",
       "      <td>0.541268</td>\n",
       "      <td>0.500013</td>\n",
       "      <td>0.499988</td>\n",
       "      <td>0.500002</td>\n",
       "      <td>0.500049</td>\n",
       "    </tr>\n",
       "    <tr>\n",
       "      <th>min</th>\n",
       "      <td>0.000000</td>\n",
       "      <td>11.400000</td>\n",
       "      <td>5.100000</td>\n",
       "      <td>0.000000</td>\n",
       "      <td>0.000000</td>\n",
       "      <td>0.000000</td>\n",
       "      <td>0.000000</td>\n",
       "    </tr>\n",
       "    <tr>\n",
       "      <th>25%</th>\n",
       "      <td>1.000000</td>\n",
       "      <td>12.200000</td>\n",
       "      <td>5.500000</td>\n",
       "      <td>0.000000</td>\n",
       "      <td>0.000000</td>\n",
       "      <td>0.000000</td>\n",
       "      <td>0.000000</td>\n",
       "    </tr>\n",
       "    <tr>\n",
       "      <th>50%</th>\n",
       "      <td>1.000000</td>\n",
       "      <td>13.100000</td>\n",
       "      <td>5.900000</td>\n",
       "      <td>0.000000</td>\n",
       "      <td>1.000000</td>\n",
       "      <td>0.000000</td>\n",
       "      <td>0.000000</td>\n",
       "    </tr>\n",
       "    <tr>\n",
       "      <th>75%</th>\n",
       "      <td>1.000000</td>\n",
       "      <td>14.000000</td>\n",
       "      <td>6.400000</td>\n",
       "      <td>1.000000</td>\n",
       "      <td>1.000000</td>\n",
       "      <td>1.000000</td>\n",
       "      <td>1.000000</td>\n",
       "    </tr>\n",
       "    <tr>\n",
       "      <th>max</th>\n",
       "      <td>1.000000</td>\n",
       "      <td>15.500000</td>\n",
       "      <td>7.100000</td>\n",
       "      <td>1.000000</td>\n",
       "      <td>1.000000</td>\n",
       "      <td>1.000000</td>\n",
       "      <td>1.000000</td>\n",
       "    </tr>\n",
       "  </tbody>\n",
       "</table>\n",
       "</div>"
      ],
      "text/plain": [
       "         long_hair  forehead_width_cm  forehead_height_cm  ...    nose_long    lips_thin  distance_nose_to_lip_long\n",
       "count  5001.000000        5001.000000         5001.000000  ...  5001.000000  5001.000000                5001.000000\n",
       "mean      0.869626          13.181484            5.946311  ...     0.507898     0.493101                   0.498900\n",
       "std       0.336748           1.107128            0.541268  ...     0.499988     0.500002                   0.500049\n",
       "min       0.000000          11.400000            5.100000  ...     0.000000     0.000000                   0.000000\n",
       "25%       1.000000          12.200000            5.500000  ...     0.000000     0.000000                   0.000000\n",
       "50%       1.000000          13.100000            5.900000  ...     1.000000     0.000000                   0.000000\n",
       "75%       1.000000          14.000000            6.400000  ...     1.000000     1.000000                   1.000000\n",
       "max       1.000000          15.500000            7.100000  ...     1.000000     1.000000                   1.000000\n",
       "\n",
       "[8 rows x 7 columns]"
      ]
     },
     "execution_count": 146,
     "metadata": {},
     "output_type": "execute_result"
    }
   ],
   "source": [
    "data.describe()"
   ]
  },
  {
   "cell_type": "markdown",
   "metadata": {
    "id": "6A30ZicocGKe"
   },
   "source": [
    "**Step-6:**  Missing value analysis."
   ]
  },
  {
   "cell_type": "code",
   "execution_count": 147,
   "metadata": {
    "scrolled": true
   },
   "outputs": [
    {
     "data": {
      "text/plain": [
       "long_hair                    0\n",
       "forehead_width_cm            0\n",
       "forehead_height_cm           0\n",
       "nose_wide                    0\n",
       "nose_long                    0\n",
       "lips_thin                    0\n",
       "distance_nose_to_lip_long    0\n",
       "gender                       0\n",
       "dtype: int64"
      ]
     },
     "execution_count": 147,
     "metadata": {},
     "output_type": "execute_result"
    }
   ],
   "source": [
    "data.isna().sum() # no missing value is found, so we can skip other task related  to missing value analysis."
   ]
  },
  {
   "cell_type": "markdown",
   "metadata": {
    "id": "6A30ZicocGKe"
   },
   "source": [
    "**Step-7:**  Distribution Of Target Variable"
   ]
  },
  {
   "cell_type": "code",
   "execution_count": 148,
   "metadata": {
    "scrolled": true
   },
   "outputs": [
    {
     "data": {
      "text/html": [
       "<div>\n",
       "<style scoped>\n",
       "    .dataframe tbody tr th:only-of-type {\n",
       "        vertical-align: middle;\n",
       "    }\n",
       "\n",
       "    .dataframe tbody tr th {\n",
       "        vertical-align: top;\n",
       "    }\n",
       "\n",
       "    .dataframe thead th {\n",
       "        text-align: right;\n",
       "    }\n",
       "</style>\n",
       "<table border=\"1\" class=\"dataframe\">\n",
       "  <thead>\n",
       "    <tr style=\"text-align: right;\">\n",
       "      <th></th>\n",
       "      <th>Counts</th>\n",
       "      <th>Percentage</th>\n",
       "    </tr>\n",
       "  </thead>\n",
       "  <tbody>\n",
       "    <tr>\n",
       "      <th>Female</th>\n",
       "      <td>2501</td>\n",
       "      <td>0.5001</td>\n",
       "    </tr>\n",
       "    <tr>\n",
       "      <th>Male</th>\n",
       "      <td>2500</td>\n",
       "      <td>0.4999</td>\n",
       "    </tr>\n",
       "  </tbody>\n",
       "</table>\n",
       "</div>"
      ],
      "text/plain": [
       "        Counts  Percentage\n",
       "Female    2501      0.5001\n",
       "Male      2500      0.4999"
      ]
     },
     "execution_count": 148,
     "metadata": {},
     "output_type": "execute_result"
    }
   ],
   "source": [
    "target_ratio = pd.DataFrame({'Counts':data.gender.value_counts(),'Percentage':data.gender.value_counts()/len(data)})\n",
    "target_ratio"
   ]
  },
  {
   "cell_type": "code",
   "execution_count": 149,
   "metadata": {},
   "outputs": [
    {
     "data": {
      "image/png": "[encoded data removed]",
      "text/plain": [
       "<Figure size 720x72 with 1 Axes>"
      ]
     },
     "metadata": {
      "needs_background": "light"
     },
     "output_type": "display_data"
    }
   ],
   "source": [
    "plt.figure(figsize = (10,1))\n",
    "plt.barh(target_ratio.index, target_ratio.Percentage)\n",
    "plt.xlabel('Percentage')\n",
    "plt.show()\n",
    "#our data is balanced "
   ]
  },
  {
   "cell_type": "code",
   "execution_count": 150,
   "metadata": {},
   "outputs": [],
   "source": [
    "# standardize the contninuous data\n",
    "con = data[['forehead_width_cm','forehead_height_cm']]\n",
    "cat = data[['long_hair','nose_wide','nose_long','lips_thin','distance_nose_to_lip_long']]"
   ]
  },
  {
   "cell_type": "markdown",
   "metadata": {
    "id": "6A30ZicocGKe"
   },
   "source": [
    "**Step-8:**  Do standesization for con data"
   ]
  },
  {
   "cell_type": "code",
   "execution_count": 151,
   "metadata": {},
   "outputs": [],
   "source": [
    "from sklearn.preprocessing import StandardScaler\n",
    "X_std = StandardScaler().fit_transform(con)"
   ]
  },
  {
   "cell_type": "code",
   "execution_count": 152,
   "metadata": {},
   "outputs": [
    {
     "data": {
      "text/plain": [
       "array([[-1.24793291,  0.28397148],\n",
       "       [ 0.73938869, -1.00941773],\n",
       "       [-1.24793291,  0.65351125],\n",
       "       ...,\n",
       "       [-0.25427211, -0.45510807],\n",
       "       [ 0.01672629,  0.46874136],\n",
       "       [ 2.00404789, -1.00941773]])"
      ]
     },
     "execution_count": 152,
     "metadata": {},
     "output_type": "execute_result"
    }
   ],
   "source": [
    "X_std"
   ]
  },
  {
   "cell_type": "markdown",
   "metadata": {
    "id": "6A30ZicocGKe"
   },
   "source": [
    "**Step-9:**  Convert generated output to datframe"
   ]
  },
  {
   "cell_type": "code",
   "execution_count": 153,
   "metadata": {},
   "outputs": [],
   "source": [
    "std_data = pd.DataFrame(data=X_std, index=con.index, columns=con.columns)"
   ]
  },
  {
   "cell_type": "code",
   "execution_count": 154,
   "metadata": {},
   "outputs": [
    {
     "data": {
      "text/html": [
       "<div>\n",
       "<style scoped>\n",
       "    .dataframe tbody tr th:only-of-type {\n",
       "        vertical-align: middle;\n",
       "    }\n",
       "\n",
       "    .dataframe tbody tr th {\n",
       "        vertical-align: top;\n",
       "    }\n",
       "\n",
       "    .dataframe thead th {\n",
       "        text-align: right;\n",
       "    }\n",
       "</style>\n",
       "<table border=\"1\" class=\"dataframe\">\n",
       "  <thead>\n",
       "    <tr style=\"text-align: right;\">\n",
       "      <th></th>\n",
       "      <th>forehead_width_cm</th>\n",
       "      <th>forehead_height_cm</th>\n",
       "    </tr>\n",
       "  </thead>\n",
       "  <tbody>\n",
       "    <tr>\n",
       "      <th>0</th>\n",
       "      <td>-1.247933</td>\n",
       "      <td>0.283971</td>\n",
       "    </tr>\n",
       "    <tr>\n",
       "      <th>1</th>\n",
       "      <td>0.739389</td>\n",
       "      <td>-1.009418</td>\n",
       "    </tr>\n",
       "    <tr>\n",
       "      <th>2</th>\n",
       "      <td>-1.247933</td>\n",
       "      <td>0.653511</td>\n",
       "    </tr>\n",
       "    <tr>\n",
       "      <th>3</th>\n",
       "      <td>1.100720</td>\n",
       "      <td>0.283971</td>\n",
       "    </tr>\n",
       "    <tr>\n",
       "      <th>4</th>\n",
       "      <td>0.287725</td>\n",
       "      <td>-0.085568</td>\n",
       "    </tr>\n",
       "    <tr>\n",
       "      <th>...</th>\n",
       "      <td>...</td>\n",
       "      <td>...</td>\n",
       "    </tr>\n",
       "    <tr>\n",
       "      <th>4996</th>\n",
       "      <td>0.378057</td>\n",
       "      <td>-1.563727</td>\n",
       "    </tr>\n",
       "    <tr>\n",
       "      <th>4997</th>\n",
       "      <td>-1.157600</td>\n",
       "      <td>-1.009418</td>\n",
       "    </tr>\n",
       "    <tr>\n",
       "      <th>4998</th>\n",
       "      <td>-0.254272</td>\n",
       "      <td>-0.455108</td>\n",
       "    </tr>\n",
       "    <tr>\n",
       "      <th>4999</th>\n",
       "      <td>0.016726</td>\n",
       "      <td>0.468741</td>\n",
       "    </tr>\n",
       "    <tr>\n",
       "      <th>5000</th>\n",
       "      <td>2.004048</td>\n",
       "      <td>-1.009418</td>\n",
       "    </tr>\n",
       "  </tbody>\n",
       "</table>\n",
       "<p>5001 rows × 2 columns</p>\n",
       "</div>"
      ],
      "text/plain": [
       "      forehead_width_cm  forehead_height_cm\n",
       "0             -1.247933            0.283971\n",
       "1              0.739389           -1.009418\n",
       "2             -1.247933            0.653511\n",
       "3              1.100720            0.283971\n",
       "4              0.287725           -0.085568\n",
       "...                 ...                 ...\n",
       "4996           0.378057           -1.563727\n",
       "4997          -1.157600           -1.009418\n",
       "4998          -0.254272           -0.455108\n",
       "4999           0.016726            0.468741\n",
       "5000           2.004048           -1.009418\n",
       "\n",
       "[5001 rows x 2 columns]"
      ]
     },
     "execution_count": 154,
     "metadata": {},
     "output_type": "execute_result"
    }
   ],
   "source": [
    "std_data"
   ]
  },
  {
   "cell_type": "markdown",
   "metadata": {
    "id": "6A30ZicocGKe"
   },
   "source": [
    "**Step-10:** Concat both data frame "
   ]
  },
  {
   "cell_type": "code",
   "execution_count": 155,
   "metadata": {},
   "outputs": [
    {
     "data": {
      "text/html": [
       "<div>\n",
       "<style scoped>\n",
       "    .dataframe tbody tr th:only-of-type {\n",
       "        vertical-align: middle;\n",
       "    }\n",
       "\n",
       "    .dataframe tbody tr th {\n",
       "        vertical-align: top;\n",
       "    }\n",
       "\n",
       "    .dataframe thead th {\n",
       "        text-align: right;\n",
       "    }\n",
       "</style>\n",
       "<table border=\"1\" class=\"dataframe\">\n",
       "  <thead>\n",
       "    <tr style=\"text-align: right;\">\n",
       "      <th></th>\n",
       "      <th>forehead_width_cm</th>\n",
       "      <th>forehead_height_cm</th>\n",
       "      <th>long_hair</th>\n",
       "      <th>nose_wide</th>\n",
       "      <th>nose_long</th>\n",
       "      <th>lips_thin</th>\n",
       "      <th>distance_nose_to_lip_long</th>\n",
       "    </tr>\n",
       "  </thead>\n",
       "  <tbody>\n",
       "    <tr>\n",
       "      <th>0</th>\n",
       "      <td>-1.247933</td>\n",
       "      <td>0.283971</td>\n",
       "      <td>1</td>\n",
       "      <td>1</td>\n",
       "      <td>0</td>\n",
       "      <td>1</td>\n",
       "      <td>1</td>\n",
       "    </tr>\n",
       "    <tr>\n",
       "      <th>1</th>\n",
       "      <td>0.739389</td>\n",
       "      <td>-1.009418</td>\n",
       "      <td>0</td>\n",
       "      <td>0</td>\n",
       "      <td>0</td>\n",
       "      <td>1</td>\n",
       "      <td>0</td>\n",
       "    </tr>\n",
       "    <tr>\n",
       "      <th>2</th>\n",
       "      <td>-1.247933</td>\n",
       "      <td>0.653511</td>\n",
       "      <td>0</td>\n",
       "      <td>1</td>\n",
       "      <td>1</td>\n",
       "      <td>1</td>\n",
       "      <td>1</td>\n",
       "    </tr>\n",
       "    <tr>\n",
       "      <th>3</th>\n",
       "      <td>1.100720</td>\n",
       "      <td>0.283971</td>\n",
       "      <td>0</td>\n",
       "      <td>0</td>\n",
       "      <td>1</td>\n",
       "      <td>1</td>\n",
       "      <td>1</td>\n",
       "    </tr>\n",
       "    <tr>\n",
       "      <th>4</th>\n",
       "      <td>0.287725</td>\n",
       "      <td>-0.085568</td>\n",
       "      <td>1</td>\n",
       "      <td>0</td>\n",
       "      <td>0</td>\n",
       "      <td>0</td>\n",
       "      <td>0</td>\n",
       "    </tr>\n",
       "    <tr>\n",
       "      <th>...</th>\n",
       "      <td>...</td>\n",
       "      <td>...</td>\n",
       "      <td>...</td>\n",
       "      <td>...</td>\n",
       "      <td>...</td>\n",
       "      <td>...</td>\n",
       "      <td>...</td>\n",
       "    </tr>\n",
       "    <tr>\n",
       "      <th>4996</th>\n",
       "      <td>0.378057</td>\n",
       "      <td>-1.563727</td>\n",
       "      <td>1</td>\n",
       "      <td>0</td>\n",
       "      <td>0</td>\n",
       "      <td>0</td>\n",
       "      <td>0</td>\n",
       "    </tr>\n",
       "    <tr>\n",
       "      <th>4997</th>\n",
       "      <td>-1.157600</td>\n",
       "      <td>-1.009418</td>\n",
       "      <td>1</td>\n",
       "      <td>0</td>\n",
       "      <td>0</td>\n",
       "      <td>0</td>\n",
       "      <td>0</td>\n",
       "    </tr>\n",
       "    <tr>\n",
       "      <th>4998</th>\n",
       "      <td>-0.254272</td>\n",
       "      <td>-0.455108</td>\n",
       "      <td>1</td>\n",
       "      <td>0</td>\n",
       "      <td>0</td>\n",
       "      <td>0</td>\n",
       "      <td>0</td>\n",
       "    </tr>\n",
       "    <tr>\n",
       "      <th>4999</th>\n",
       "      <td>0.016726</td>\n",
       "      <td>0.468741</td>\n",
       "      <td>1</td>\n",
       "      <td>0</td>\n",
       "      <td>0</td>\n",
       "      <td>0</td>\n",
       "      <td>0</td>\n",
       "    </tr>\n",
       "    <tr>\n",
       "      <th>5000</th>\n",
       "      <td>2.004048</td>\n",
       "      <td>-1.009418</td>\n",
       "      <td>1</td>\n",
       "      <td>1</td>\n",
       "      <td>1</td>\n",
       "      <td>1</td>\n",
       "      <td>1</td>\n",
       "    </tr>\n",
       "  </tbody>\n",
       "</table>\n",
       "<p>5001 rows × 7 columns</p>\n",
       "</div>"
      ],
      "text/plain": [
       "      forehead_width_cm  forehead_height_cm  long_hair  nose_wide  nose_long  lips_thin  distance_nose_to_lip_long\n",
       "0             -1.247933            0.283971          1          1          0          1                          1\n",
       "1              0.739389           -1.009418          0          0          0          1                          0\n",
       "2             -1.247933            0.653511          0          1          1          1                          1\n",
       "3              1.100720            0.283971          0          0          1          1                          1\n",
       "4              0.287725           -0.085568          1          0          0          0                          0\n",
       "...                 ...                 ...        ...        ...        ...        ...                        ...\n",
       "4996           0.378057           -1.563727          1          0          0          0                          0\n",
       "4997          -1.157600           -1.009418          1          0          0          0                          0\n",
       "4998          -0.254272           -0.455108          1          0          0          0                          0\n",
       "4999           0.016726            0.468741          1          0          0          0                          0\n",
       "5000           2.004048           -1.009418          1          1          1          1                          1\n",
       "\n",
       "[5001 rows x 7 columns]"
      ]
     },
     "execution_count": 155,
     "metadata": {},
     "output_type": "execute_result"
    }
   ],
   "source": [
    "input_features=pd.concat([std_data,cat],axis=1)   \n",
    "input_features"
   ]
  },
  {
   "cell_type": "code",
   "execution_count": 156,
   "metadata": {},
   "outputs": [
    {
     "name": "stdout",
     "output_type": "stream",
     "text": [
      "<class 'pandas.core.frame.DataFrame'>\n",
      "RangeIndex: 5001 entries, 0 to 5000\n",
      "Data columns (total 7 columns):\n",
      " #   Column                     Non-Null Count  Dtype  \n",
      "---  ------                     --------------  -----  \n",
      " 0   forehead_width_cm          5001 non-null   float64\n",
      " 1   forehead_height_cm         5001 non-null   float64\n",
      " 2   long_hair                  5001 non-null   int64  \n",
      " 3   nose_wide                  5001 non-null   int64  \n",
      " 4   nose_long                  5001 non-null   int64  \n",
      " 5   lips_thin                  5001 non-null   int64  \n",
      " 6   distance_nose_to_lip_long  5001 non-null   int64  \n",
      "dtypes: float64(2), int64(5)\n",
      "memory usage: 273.6 KB\n"
     ]
    }
   ],
   "source": [
    "input_features.info()"
   ]
  },
  {
   "cell_type": "markdown",
   "metadata": {
    "id": "6A30ZicocGKe"
   },
   "source": [
    "**Step-11:** Do label encoding for dependent feature"
   ]
  },
  {
   "cell_type": "code",
   "execution_count": 157,
   "metadata": {},
   "outputs": [],
   "source": [
    "lb=LabelEncoder()\n",
    "data.gender = lb.fit_transform(data.gender) "
   ]
  },
  {
   "cell_type": "code",
   "execution_count": 158,
   "metadata": {},
   "outputs": [],
   "source": [
    "X = input_features.copy()\n",
    "y = data.gender"
   ]
  },
  {
   "cell_type": "markdown",
   "metadata": {
    "id": "6A30ZicocGKe"
   },
   "source": [
    "**Step-12:**  Seprate dependent and independent feature into X and y. "
   ]
  },
  {
   "cell_type": "code",
   "execution_count": 159,
   "metadata": {},
   "outputs": [
    {
     "name": "stdout",
     "output_type": "stream",
     "text": [
      "(3500, 7)\n",
      "(1501, 7)\n",
      "(3500,)\n",
      "(1501,)\n"
     ]
    }
   ],
   "source": [
    "x_train,x_test,y_train,y_test=train_test_split(X,y,test_size=0.3,random_state=124)\n",
    "print(x_train.shape)\n",
    "print(x_test.shape)\n",
    "print(y_train.shape)\n",
    "print(y_test.shape)"
   ]
  },
  {
   "cell_type": "code",
   "execution_count": null,
   "metadata": {},
   "outputs": [],
   "source": []
  },
  {
   "cell_type": "markdown",
   "metadata": {},
   "source": [
    "**GradientBoostingClassifier**<br/>"
   ]
  },
  {
   "cell_type": "markdown",
   "metadata": {
    "id": "6A30ZicocGKe"
   },
   "source": [
    "**Step-13:**  Build a Gradient boosting classifier model."
   ]
  },
  {
   "cell_type": "code",
   "execution_count": 160,
   "metadata": {},
   "outputs": [],
   "source": [
    "from sklearn.ensemble import GradientBoostingClassifier"
   ]
  },
  {
   "cell_type": "code",
   "execution_count": 161,
   "metadata": {},
   "outputs": [],
   "source": [
    "gb_clf=GradientBoostingClassifier(learning_rate=0.5,n_estimators=1000)"
   ]
  },
  {
   "cell_type": "code",
   "execution_count": 162,
   "metadata": {},
   "outputs": [
    {
     "data": {
      "text/plain": [
       "GradientBoostingClassifier(ccp_alpha=0.0, criterion='friedman_mse', init=None,\n",
       "                           learning_rate=0.5, loss='deviance', max_depth=3,\n",
       "                           max_features=None, max_leaf_nodes=None,\n",
       "                           min_impurity_decrease=0.0, min_impurity_split=None,\n",
       "                           min_samples_leaf=1, min_samples_split=2,\n",
       "                           min_weight_fraction_leaf=0.0, n_estimators=1000,\n",
       "                           n_iter_no_change=None, presort='deprecated',\n",
       "                           random_state=None, subsample=1.0, tol=0.0001,\n",
       "                           validation_fraction=0.1, verbose=0,\n",
       "                           warm_start=False)"
      ]
     },
     "execution_count": 162,
     "metadata": {},
     "output_type": "execute_result"
    }
   ],
   "source": [
    "gb_clf.fit(x_train, y_train)"
   ]
  },
  {
   "cell_type": "code",
   "execution_count": 163,
   "metadata": {},
   "outputs": [],
   "source": [
    "gb_pred=gb_clf.predict(x_test)"
   ]
  },
  {
   "cell_type": "code",
   "execution_count": 164,
   "metadata": {},
   "outputs": [
    {
     "name": "stdout",
     "output_type": "stream",
     "text": [
      "0.966688874083944\n",
      "\n",
      "\n",
      "\n",
      "Confusion matrix for GradientBoostingClassifier\n"
     ]
    },
    {
     "data": {
      "image/png": "[encoded data removed]",
      "text/plain": [
       "<Figure size 432x288 with 2 Axes>"
      ]
     },
     "metadata": {
      "needs_background": "light"
     },
     "output_type": "display_data"
    },
    {
     "name": "stdout",
     "output_type": "stream",
     "text": [
      "\n",
      "\n",
      " Classification report\n",
      "              precision    recall  f1-score   support\n",
      "\n",
      "           0       0.97      0.96      0.97       760\n",
      "           1       0.96      0.97      0.97       741\n",
      "\n",
      "    accuracy                           0.97      1501\n",
      "   macro avg       0.97      0.97      0.97      1501\n",
      "weighted avg       0.97      0.97      0.97      1501\n",
      "\n"
     ]
    }
   ],
   "source": [
    "print(metrics.accuracy_score(y_test,gb_pred))\n",
    "print('\\n\\n')\n",
    "print('Confusion matrix for GradientBoostingClassifier')\n",
    "gb_cm=metrics.confusion_matrix(y_test, gb_pred)\n",
    "\n",
    "\n",
    "lbl1=[\"Predicted 1\", \"Predicted 2\"]\n",
    "lbl2=[\"Actual 1\", \"Actual 2\"]\n",
    "\n",
    "sns.heatmap(gb_cm, annot=True, cmap=\"Blues\", fmt=\"d\", xticklabels=lbl1, yticklabels=lbl2)\n",
    "\n",
    "plt.show()\n",
    "\n",
    "print('\\n\\n Classification report')\n",
    "print(metrics.classification_report(y_test,gb_pred))"
   ]
  },
  {
   "cell_type": "code",
   "execution_count": null,
   "metadata": {},
   "outputs": [],
   "source": []
  },
  {
   "cell_type": "code",
   "execution_count": null,
   "metadata": {},
   "outputs": [],
   "source": []
  },
  {
   "cell_type": "code",
   "execution_count": null,
   "metadata": {},
   "outputs": [],
   "source": []
  },
  {
   "cell_type": "markdown",
   "metadata": {
    "colab_type": "text",
    "id": "rIIq4LxpF7rG"
   },
   "source": [
    "**XGBoost**<br/>"
   ]
  },
  {
   "cell_type": "markdown",
   "metadata": {
    "id": "6A30ZicocGKe"
   },
   "source": [
    "**Step-14:**  Build a XG boost classifier model."
   ]
  },
  {
   "cell_type": "code",
   "execution_count": 165,
   "metadata": {
    "colab": {},
    "colab_type": "code",
    "id": "EYwZGz5-R0M2"
   },
   "outputs": [],
   "source": [
    "from xgboost.sklearn import XGBClassifier"
   ]
  },
  {
   "cell_type": "code",
   "execution_count": 166,
   "metadata": {
    "colab": {},
    "colab_type": "code",
    "id": "3NLffyg3_0Ys"
   },
   "outputs": [],
   "source": [
    "xgb_model = XGBClassifier(num_class = 2,\n",
    "                           objective=\"multi:softprob\",\n",
    "                           eval_metric=\"mlogloss\",\n",
    "                           seed=42) "
   ]
  },
  {
   "cell_type": "code",
   "execution_count": 167,
   "metadata": {
    "colab": {
     "base_uri": "https://localhost:8080/",
     "height": 136
    },
    "colab_type": "code",
    "executionInfo": {
     "elapsed": 5299,
     "status": "ok",
     "timestamp": 1564210929657,
     "user": {
      "displayName": "Lavi Nigam",
      "photoUrl": "https://lh6.googleusercontent.com/-VVDbL0W4k54/AAAAAAAAAAI/AAAAAAAAClE/dqqBdY5uP8E/s64/photo.jpg",
      "userId": "01031927567449846531"
     },
     "user_tz": -330
    },
    "id": "vV3in4Rc_8XX",
    "outputId": "aef0f7c7-0d7f-4312-8f02-1dae8396f28f"
   },
   "outputs": [
    {
     "name": "stderr",
     "output_type": "stream",
     "text": [
      "C:\\Users\\Abhishek\\anaconda3\\lib\\site-packages\\xgboost\\sklearn.py:1224: UserWarning: The use of label encoder in XGBClassifier is deprecated and will be removed in a future release. To remove this warning, do the following: 1) Pass option use_label_encoder=False when constructing XGBClassifier object; and 2) Encode your labels (y) as integers starting with 0, i.e. 0, 1, 2, ..., [num_class - 1].\n",
      "  warnings.warn(label_encoder_deprecation_msg, UserWarning)\n",
      "C:\\Users\\Abhishek\\anaconda3\\lib\\site-packages\\xgboost\\data.py:262: FutureWarning: pandas.Int64Index is deprecated and will be removed from pandas in a future version. Use pandas.Index with the appropriate dtype instead.\n",
      "  elif isinstance(data.columns, (pd.Int64Index, pd.RangeIndex)):\n"
     ]
    },
    {
     "data": {
      "text/plain": [
       "XGBClassifier(base_score=0.5, booster='gbtree', colsample_bylevel=1,\n",
       "              colsample_bynode=1, colsample_bytree=1, enable_categorical=False,\n",
       "              eval_metric='mlogloss', gamma=0, gpu_id=-1, importance_type=None,\n",
       "              interaction_constraints='', learning_rate=0.300000012,\n",
       "              max_delta_step=0, max_depth=6, min_child_weight=1, missing=nan,\n",
       "              monotone_constraints='()', n_estimators=100, n_jobs=8,\n",
       "              num_class=2, num_parallel_tree=1, objective='multi:softprob',\n",
       "              predictor='auto', random_state=42, reg_alpha=0, reg_lambda=1,\n",
       "              scale_pos_weight=None, seed=42, subsample=1, tree_method='exact', ...)"
      ]
     },
     "execution_count": 167,
     "metadata": {},
     "output_type": "execute_result"
    }
   ],
   "source": [
    "xgb_model.fit(x_train, y_train)"
   ]
  },
  {
   "cell_type": "code",
   "execution_count": 168,
   "metadata": {
    "colab": {},
    "colab_type": "code",
    "id": "7VYhxCo2F7ZQ"
   },
   "outputs": [],
   "source": [
    "xgboost_pred=xgb_model.predict(x_test)"
   ]
  },
  {
   "cell_type": "code",
   "execution_count": 169,
   "metadata": {
    "colab": {
     "base_uri": "https://localhost:8080/",
     "height": 595
    },
    "colab_type": "code",
    "executionInfo": {
     "elapsed": 1813,
     "status": "ok",
     "timestamp": 1564211090867,
     "user": {
      "displayName": "Lavi Nigam",
      "photoUrl": "https://lh6.googleusercontent.com/-VVDbL0W4k54/AAAAAAAAAAI/AAAAAAAAClE/dqqBdY5uP8E/s64/photo.jpg",
      "userId": "01031927567449846531"
     },
     "user_tz": -330
    },
    "id": "Aw7QrpDPF7fs",
    "outputId": "3f5f1824-e87e-4adc-a9b8-f9051c2a27a2"
   },
   "outputs": [
    {
     "name": "stdout",
     "output_type": "stream",
     "text": [
      "0.966688874083944\n",
      "\n",
      "\n",
      "\n",
      "Confusion matrix for  XG boost classifier\n"
     ]
    },
    {
     "data": {
      "image/png": "[encoded data removed]",
      "text/plain": [
       "<Figure size 432x288 with 2 Axes>"
      ]
     },
     "metadata": {
      "needs_background": "light"
     },
     "output_type": "display_data"
    },
    {
     "name": "stdout",
     "output_type": "stream",
     "text": [
      "\n",
      "\n",
      " Classification report\n",
      "              precision    recall  f1-score   support\n",
      "\n",
      "           0       0.97      0.96      0.97       760\n",
      "           1       0.96      0.97      0.97       741\n",
      "\n",
      "    accuracy                           0.97      1501\n",
      "   macro avg       0.97      0.97      0.97      1501\n",
      "weighted avg       0.97      0.97      0.97      1501\n",
      "\n"
     ]
    }
   ],
   "source": [
    "print(metrics.accuracy_score(y_test,xgboost_pred))\n",
    "print('\\n\\n')\n",
    "print('Confusion matrix for  XG boost classifier')\n",
    "xgboost_cm=metrics.confusion_matrix(y_test, xgboost_pred)\n",
    "\n",
    "\n",
    "lbl1=[\"Predicted 1\", \"Predicted 2\"]\n",
    "lbl2=[\"Actual 1\", \"Actual 2\"]\n",
    "\n",
    "sns.heatmap(xgboost_cm, annot=True, cmap=\"Blues\", fmt=\"d\", xticklabels=lbl1, yticklabels=lbl2)\n",
    "\n",
    "plt.show()\n",
    "\n",
    "print('\\n\\n Classification report')\n",
    "print(metrics.classification_report(y_test,xgboost_pred))"
   ]
  },
  {
   "cell_type": "code",
   "execution_count": 170,
   "metadata": {},
   "outputs": [
    {
     "name": "stdout",
     "output_type": "stream",
     "text": [
      "0.9947386177995596\n"
     ]
    }
   ],
   "source": [
    "predict_probabilities = xgb_model.predict_proba(x_test)\n",
    "from sklearn.metrics import roc_auc_score\n",
    "final_metric = roc_auc_score(y_test, predict_probabilities[:,1])\n",
    "print (final_metric)"
   ]
  },
  {
   "cell_type": "markdown",
   "metadata": {
    "colab_type": "text",
    "id": "czzmRA7v2Oev"
   },
   "source": [
    "**XgBoost with Grid Search**"
   ]
  },
  {
   "cell_type": "markdown",
   "metadata": {
    "id": "6A30ZicocGKe"
   },
   "source": [
    "**Step-15:**  Build a XG boost classifier model with help of grid search."
   ]
  },
  {
   "cell_type": "code",
   "execution_count": 171,
   "metadata": {
    "colab": {
     "base_uri": "https://localhost:8080/",
     "height": 425
    },
    "colab_type": "code",
    "executionInfo": {
     "elapsed": 600452,
     "status": "ok",
     "timestamp": 1564211846825,
     "user": {
      "displayName": "Lavi Nigam",
      "photoUrl": "https://lh6.googleusercontent.com/-VVDbL0W4k54/AAAAAAAAAAI/AAAAAAAAClE/dqqBdY5uP8E/s64/photo.jpg",
      "userId": "01031927567449846531"
     },
     "user_tz": -330
    },
    "id": "zPRiH5KnR0Jr",
    "outputId": "d77e435a-8e1a-41d4-e31f-3805b5934f7b"
   },
   "outputs": [
    {
     "name": "stdout",
     "output_type": "stream",
     "text": [
      "Fitting 5 folds for each of 36 candidates, totalling 180 fits\n"
     ]
    },
    {
     "name": "stderr",
     "output_type": "stream",
     "text": [
      "[Parallel(n_jobs=-1)]: Using backend LokyBackend with 8 concurrent workers.\n",
      "[Parallel(n_jobs=-1)]: Done  34 tasks      | elapsed:    1.3s\n",
      "[Parallel(n_jobs=-1)]: Done 180 out of 180 | elapsed:    5.4s finished\n",
      "C:\\Users\\Abhishek\\anaconda3\\lib\\site-packages\\xgboost\\sklearn.py:1224: UserWarning: The use of label encoder in XGBClassifier is deprecated and will be removed in a future release. To remove this warning, do the following: 1) Pass option use_label_encoder=False when constructing XGBClassifier object; and 2) Encode your labels (y) as integers starting with 0, i.e. 0, 1, 2, ..., [num_class - 1].\n",
      "  warnings.warn(label_encoder_deprecation_msg, UserWarning)\n",
      "C:\\Users\\Abhishek\\anaconda3\\lib\\site-packages\\xgboost\\data.py:262: FutureWarning: pandas.Int64Index is deprecated and will be removed from pandas in a future version. Use pandas.Index with the appropriate dtype instead.\n",
      "  elif isinstance(data.columns, (pd.Int64Index, pd.RangeIndex)):\n"
     ]
    },
    {
     "data": {
      "text/plain": [
       "{'gamma': 0.03, 'learning_rate': 0.05, 'max_depth': 10, 'n_estimators': 15}"
      ]
     },
     "execution_count": 171,
     "metadata": {},
     "output_type": "execute_result"
    }
   ],
   "source": [
    "xgb_gs_clf = XGBClassifier(num_class = 2,\n",
    "                           objective=\"multi:softprob\",\n",
    "                           eval_metric=\"mlogloss\",\n",
    "                           seed=42)                         \n",
    "                        \n",
    "param_grid = {\"max_depth\": [10,15,20],\n",
    "              \"n_estimators\": range(5,20,5) , \n",
    "              \"gamma\": [0.03,0.05], \n",
    "              \"learning_rate\": [0.01,0.05]}\n",
    "\n",
    "grid_search = GridSearchCV(xgb_gs_clf, \n",
    "                           param_grid=param_grid,\n",
    "                           cv = 5,\n",
    "                           n_jobs=-1,\n",
    "                           scoring='neg_log_loss',\n",
    "                           verbose=2)\n",
    "grid_search.fit(x_train,y_train)\n",
    "grid_search.best_params_"
   ]
  },
  {
   "cell_type": "code",
   "execution_count": 172,
   "metadata": {
    "colab": {},
    "colab_type": "code",
    "id": "opGu5dFoR0Hg"
   },
   "outputs": [],
   "source": [
    "xgboost_y_pred=grid_search.predict(x_test)                                      # Validating the model by predicting the test data"
   ]
  },
  {
   "cell_type": "code",
   "execution_count": 173,
   "metadata": {
    "colab": {
     "base_uri": "https://localhost:8080/",
     "height": 595
    },
    "colab_type": "code",
    "executionInfo": {
     "elapsed": 1413,
     "status": "ok",
     "timestamp": 1564212251279,
     "user": {
      "displayName": "Lavi Nigam",
      "photoUrl": "https://lh6.googleusercontent.com/-VVDbL0W4k54/AAAAAAAAAAI/AAAAAAAAClE/dqqBdY5uP8E/s64/photo.jpg",
      "userId": "01031927567449846531"
     },
     "user_tz": -330
    },
    "id": "ofX0Girgh7lJ",
    "outputId": "e399c9b1-dc62-4c83-ff23-b111ab7688c5"
   },
   "outputs": [
    {
     "name": "stdout",
     "output_type": "stream",
     "text": [
      "0.9713524317121919\n",
      "\n",
      "\n",
      "Confusion matrix for optimal XG boost classifier\n"
     ]
    },
    {
     "data": {
      "image/png": "[encoded data removed]",
      "text/plain": [
       "<Figure size 432x288 with 2 Axes>"
      ]
     },
     "metadata": {
      "needs_background": "light"
     },
     "output_type": "display_data"
    },
    {
     "name": "stdout",
     "output_type": "stream",
     "text": [
      "\n",
      "\n",
      "\n",
      " Classification report\n",
      "              precision    recall  f1-score   support\n",
      "\n",
      "           0       0.97      0.97      0.97       760\n",
      "           1       0.97      0.97      0.97       741\n",
      "\n",
      "    accuracy                           0.97      1501\n",
      "   macro avg       0.97      0.97      0.97      1501\n",
      "weighted avg       0.97      0.97      0.97      1501\n",
      "\n"
     ]
    }
   ],
   "source": [
    "print(metrics.accuracy_score(y_test,xgboost_y_pred))\n",
    "print('\\n\\nConfusion matrix for optimal XG boost classifier')\n",
    "xgboost_cfm=metrics.confusion_matrix(y_test, xgboost_y_pred)\n",
    "\n",
    "\n",
    "lbl1=[\"Predicted 1\", \"Predicted 2\"]\n",
    "lbl2=[\"Actual 1\", \"Actual 2\"]\n",
    "\n",
    "sns.heatmap(xgboost_cfm, annot=True, cmap=\"Blues\", fmt=\"d\", xticklabels=lbl1, yticklabels=lbl2)\n",
    "\n",
    "plt.show()\n",
    "\n",
    "print('\\n\\n\\n Classification report')\n",
    "print(metrics.classification_report(y_test,xgboost_y_pred))"
   ]
  },
  {
   "cell_type": "code",
   "execution_count": 174,
   "metadata": {},
   "outputs": [
    {
     "name": "stdout",
     "output_type": "stream",
     "text": [
      "0.9934050713829107\n"
     ]
    }
   ],
   "source": [
    "predict_probabilities = grid_search.predict_proba(x_test)\n",
    "final_metric = roc_auc_score(y_test, predict_probabilities[:,1])\n",
    "print (final_metric)"
   ]
  },
  {
   "cell_type": "code",
   "execution_count": null,
   "metadata": {},
   "outputs": [],
   "source": []
  },
  {
   "cell_type": "code",
   "execution_count": null,
   "metadata": {},
   "outputs": [],
   "source": []
  }
 ],
 "metadata": {
  "kernelspec": {
   "display_name": "Python 3",
   "language": "python",
   "name": "python3"
  },
  "language_info": {
   "codemirror_mode": {
    "name": "ipython",
    "version": 3
   },
   "file_extension": ".py",
   "mimetype": "text/x-python",
   "name": "python",
   "nbconvert_exporter": "python",
   "pygments_lexer": "ipython3",
   "version": "3.8.5"
  }
 },
 "nbformat": 4,
 "nbformat_minor": 4
}
